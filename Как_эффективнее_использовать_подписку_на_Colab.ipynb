{
  "cells": [
    {
      "cell_type": "markdown",
      "metadata": {
        "id": "view-in-github",
        "colab_type": "text"
      },
      "source": [
        "<a href=\"https://colab.research.google.com/github/l0xNeSS/base/blob/main/%D0%9A%D0%B0%D0%BA_%D1%8D%D1%84%D1%84%D0%B5%D0%BA%D1%82%D0%B8%D0%B2%D0%BD%D0%B5%D0%B5_%D0%B8%D1%81%D0%BF%D0%BE%D0%BB%D1%8C%D0%B7%D0%BE%D0%B2%D0%B0%D1%82%D1%8C_%D0%BF%D0%BE%D0%B4%D0%BF%D0%B8%D1%81%D0%BA%D1%83_%D0%BD%D0%B0_Colab.ipynb\" target=\"_parent\"><img src=\"https://colab.research.google.com/assets/colab-badge.svg\" alt=\"Open In Colab\"/></a>"
      ]
    },
    {
      "cell_type": "markdown",
      "metadata": {
        "id": "SKQ4bH7qMGrA"
      },
      "source": [
        "# Как эффективнее использовать подписку на Colab\n",
        "\n"
      ]
    },
    {
      "cell_type": "markdown",
      "metadata": {
        "id": "QMMqmdiYMkvi"
      },
      "source": [
        "## Более быстрые графические процессоры\n",
        "\n",
        "<p>Пользователям, оформившим подписку, доступны более мощные графические процессоры. Нажмите <code>Среда выполнения &gt; Сменить среду выполнения</code> и выберите улучшенный графический процессор. Вам может быть доступен процессор NVIDIA V100 или A100.</p>\n",
        "<p>В бесплатной версии Colab мы предлагаем графические процессоры NVIDIA T4, однако возможность их использования ограничена.</p>\n",
        "\n",
        "Вы в любое время можете посмотреть, какой графический процессор вам назначен, выполнив код в ячейке ниже. Если после выполнения кода появится сообщение об ошибке Not connected to a GPU, выберите другую среду. Для этого нажмите <code>Среда выполнения &gt; Сменить среду выполнения</code>, включите графический процессор и снова выполните код в ячейке."
      ]
    },
    {
      "cell_type": "code",
      "execution_count": null,
      "metadata": {
        "id": "23TOba33L4qf"
      },
      "outputs": [],
      "source": [
        "gpu_info = !nvidia-smi\n",
        "gpu_info = '\\n'.join(gpu_info)\n",
        "if gpu_info.find('failed') >= 0:\n",
        "  print('Not connected to a GPU')\n",
        "else:\n",
        "  print(gpu_info)"
      ]
    },
    {
      "cell_type": "markdown",
      "metadata": {
        "id": "Sa-IrJS1aRVJ"
      },
      "source": [
        "Чтобы использовать для блокнота графический процессор, нажмите <code>Среда выполнения &gt; Сменить среду выполнения</code> и выберите нужный вариант в списке аппаратных ускорителей."
      ]
    },
    {
      "cell_type": "markdown",
      "metadata": {
        "id": "65MSuHKqNeBZ"
      },
      "source": [
        "## Увеличенный объем памяти\n",
        "\n",
        "В платных версиях Colab можно использовать виртуальные машины с большим объемом памяти &#40;если они доступны&#41;.\n",
        "Вы в любое время можете посмотреть объем доступной памяти, выполнив код в ячейке ниже. Если после выполнения кода появится сообщение об ошибке Not using a high-RAM runtime, подключите среду с большим объемом оперативной памяти. Для этого нажмите <code>Среда выполнения &gt; Сменить среду выполнения</code>, а затем выберите пункт \"Большой объем ОЗУ\" в меню \"Форма среды выполнения\". После этого выполните код в ячейке ещё раз."
      ]
    },
    {
      "cell_type": "code",
      "execution_count": null,
      "metadata": {
        "id": "V1G82GuO-tez"
      },
      "outputs": [],
      "source": [
        "from psutil import virtual_memory\n",
        "ram_gb = virtual_memory().total / 1e9\n",
        "print('Your runtime has {:.1f} gigabytes of available RAM\\n'.format(ram_gb))\n",
        "\n",
        "if ram_gb < 20:\n",
        "  print('Not using a high-RAM runtime')\n",
        "else:\n",
        "  print('You are using a high-RAM runtime!')"
      ]
    },
    {
      "cell_type": "markdown",
      "metadata": {
        "id": "BJW8Qi-pPpep"
      },
      "source": [
        "## Увеличенное время работы\n",
        "\n",
        "Все среды выполнения Colab по прошествии определенного времени сбрасываются &#40;если в среде не выполняется код, это происходит быстрее&#41;. В Colab Pro и Pro+ время выполнения дольше, чем в бесплатной версии Colab.\n",
        "\n",
        "## Выполнение в фоновом режиме\n",
        "\n",
        "С подпиской Colab Pro+ код может выполняться в фоновом режиме, то есть блокнот продолжит обрабатываться даже после закрытия вкладки браузера. Такое поведение используется по умолчанию в средах выполнения Pro+ при наличии вычислительных единиц.\n"
      ]
    },
    {
      "cell_type": "markdown",
      "metadata": {
        "id": "uLlTRcMM_h0k"
      },
      "source": [
        "## Как увеличить объем ресурсов, доступных по подписке Colab Pro\n",
        "\n",
        "Работа в Colab не предусматривает неограниченный доступ к ресурсам. Используйте ресурсы Colab &#40;например, графические процессоры&#41;, только когда они действительно нужны, и закрывайте вкладки Colab после завершения работы.\n",
        "\n",
        "Если вам потребуется больше вычислительных ресурсов, вы сможете <a href=\"https://colab.research.google.com/signup\">оплачивать их по мере использования</a>. Подписка для этого не нужна."
      ]
    },
    {
      "cell_type": "markdown",
      "metadata": {
        "id": "mm8FzEidvPs6"
      },
      "source": [
        "## Поделитесь своим мнением\n",
        "\n",
        "<p>Если у вас есть вопросы или предложения, свяжитесь с нами. Лучше всего это сделать через меню \"Справка &gt; Отправить отзыв\". Если вы достигнете лимита на использование в Colab Pro, рекомендуем перейти на версию Pro+.</p>\n",
        "<p>Если у вас возникнут проблемы с покупкой подписок Colab Pro и Pro+ или оплатой по мере использования, свяжитесь с нами по адресу <a href=\"mailto:colab-billing@google.com\">colab-billing@google.com</a>.</p>"
      ]
    },
    {
      "cell_type": "markdown",
      "metadata": {
        "id": "qB3bdLe8jkAa"
      },
      "source": [
        "## Ресурсы по теме\n",
        "\n",
        "### Работа с блокнотами в Colab\n",
        "- [Общие сведения о Colaboratory](/notebooks/basic_features_overview.ipynb)\n",
        "- [Руководство для Markdown](/notebooks/markdown_guide.ipynb)\n",
        "- [Импорт библиотек и установка зависимостей](/notebooks/snippets/importing_libraries.ipynb)\n",
        "- [Сохранение и загрузка блокнотов в GitHub](https://colab.research.google.com/github/googlecolab/colabtools/blob/main/notebooks/colab-github-demo.ipynb)\n",
        "- [Интерактивные формы](/notebooks/forms.ipynb)\n",
        "- [Интерактивные виджеты](/notebooks/widgets.ipynb)\n",
        "\n",
        "<a name=\"working-with-data\"></a>\n",
        "### Работа с данными\n",
        "- [Загрузка данных: Диск, Таблицы и Google Cloud Storage](/notebooks/io.ipynb)\n",
        "- [Диаграмма: визуализация данных](/notebooks/charts.ipynb)\n",
        "- [Начало работы с BigQuery](/notebooks/bigquery.ipynb)\n",
        "\n",
        "### Экспресс-курс по машинному обучению\n",
        "Вот несколько блокнотов из онлайн-курса по машинному обучению от Google. Ещё больше информации доступно на <a href=\"https://developers.google.com/machine-learning/crash-course/\">сайте курса</a>.\n",
        "- [Знакомство с Pandas DataFrame](https://colab.research.google.com/github/google/eng-edu/blob/main/ml/cc/exercises/pandas_dataframe_ultraquick_tutorial.ipynb)\n",
        "- [Линейная регрессия в tf.keras с использованием синтетических данных](https://colab.research.google.com/github/google/eng-edu/blob/main/ml/cc/exercises/linear_regression_with_synthetic_data.ipynb)\n",
        "\n",
        "\n",
        "<a name=\"using-accelerated-hardware\"></a>\n",
        "### Использование ускорителей\n",
        "- [TensorFlow с графическими процессорами](/notebooks/gpu.ipynb)\n",
        "- [TensorFlow с TPU](/notebooks/tpu.ipynb)"
      ]
    },
    {
      "cell_type": "markdown",
      "metadata": {
        "id": "RFm2S0Gijqo8"
      },
      "source": [
        "<a name=\"machine-learning-examples\"></a>\n",
        "\n",
        "## Примеры использования в машинном обучении\n",
        "\n",
        "Подробные примеры интерактивного анализа, выполняемого с помощью машинного обучения и доступного благодаря платформе Colaboratory, можно найти в этих руководствах. В них используются модели с сайта <a href=\"https://tfhub.dev\">TensorFlow Hub</a>.\n",
        "\n",
        "Несколько примеров:\n",
        "\n",
        "- <a href=\"https://tensorflow.org/hub/tutorials/tf2_image_retraining\">Обучение классификатора изображений</a>. Используя предварительно обученный классификатор изображений, создайте модель Keras для распознавания цветов.\n",
        "- <a href=\"https://tensorflow.org/hub/tutorials/tf2_text_classification\">Классификация текста</a>. Разделите отзывы на сайте IMDb на <em>положительные</em> и <em>отрицательные</em>.\n",
        "- <a href=\"https://tensorflow.org/hub/tutorials/tf2_arbitrary_image_stylization\">Перенос стиля</a>. Используйте модель глубокого обучения, чтобы переносить стиль с одного изображения на другое.\n",
        "- <a href=\"https://tensorflow.org/hub/tutorials/retrieval_with_tf_hub_universal_encoder_qa\">Вопросно-ответный универсальный многоязычный кодировщик</a>. Используйте модель машинного обучения, чтобы отвечать на вопросы из набора данных SQuAD.\n",
        "- <a href=\"https://tensorflow.org/hub/tutorials/tweening_conv3d\">Интерполяция видео.</a> Спрогнозируйте, что произошло между первым и последним кадрами видео.\n"
      ]
    }
  ],
  "metadata": {
    "colab": {
      "name": "Как эффективнее использовать подписку на Colab",
      "provenance": [],
      "include_colab_link": true
    },
    "kernelspec": {
      "display_name": "Python 3",
      "name": "python3"
    }
  },
  "nbformat": 4,
  "nbformat_minor": 0
}